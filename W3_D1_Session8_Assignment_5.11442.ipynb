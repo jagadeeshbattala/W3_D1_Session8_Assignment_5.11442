{
 "cells": [
  {
   "cell_type": "markdown",
   "metadata": {},
   "source": [
    "### Problem 1"
   ]
  },
  {
   "cell_type": "code",
   "execution_count": 26,
   "metadata": {},
   "outputs": [
    {
     "name": "stdout",
     "output_type": "stream",
     "text": [
      "   X    Y\n",
      "0  7  1.0\n",
      "1  2  2.0\n",
      "2  0  0.0\n",
      "3  3  1.0\n",
      "4  4  2.0\n",
      "5  2  3.0\n",
      "6  5  4.0\n",
      "7  0  0.0\n",
      "8  3  1.0\n",
      "9  4  2.0\n"
     ]
    }
   ],
   "source": [
    "import pandas as pd\n",
    "import numpy as np\n",
    "\n",
    "dataframe = pd.DataFrame({'X': [7, 2, 0, 3, 4, 2, 5, 0, 3, 4]})\n",
    "x = (dataframe['X'] != 0).cumsum()\n",
    "y = x != x.shift()\n",
    "\n",
    "dataframe['Y'] = y.groupby((y != y.shift()).cumsum()).cumsum()\n",
    "\n",
    "x = (dataframe['X'] != 0).cumsum()\n",
    "y = x != x.shift()\n",
    "\n",
    "dataframe['Y'] = y.groupby((y != y.shift()).cumsum()).cumsum()\n",
    "\n",
    "print(dataframe)"
   ]
  },
  {
   "cell_type": "markdown",
   "metadata": {},
   "source": [
    "### Problem 2"
   ]
  },
  {
   "cell_type": "code",
   "execution_count": 6,
   "metadata": {},
   "outputs": [
    {
     "name": "stdout",
     "output_type": "stream",
     "text": [
      "2015-01-01    0.336545\n",
      "2015-01-02    0.216574\n",
      "2015-01-05    0.499257\n",
      "2015-01-06    0.568136\n",
      "2015-01-07    0.333759\n",
      "2015-01-08    0.113285\n",
      "2015-01-09    0.064824\n",
      "2015-01-12    0.426011\n",
      "2015-01-13    0.512424\n",
      "2015-01-14    0.610054\n",
      "2015-01-15    0.726986\n",
      "2015-01-16    0.559192\n",
      "2015-01-19    0.038692\n",
      "2015-01-20    0.843311\n",
      "2015-01-21    0.571715\n",
      "2015-01-22    0.093548\n",
      "2015-01-23    0.728178\n",
      "2015-01-26    0.780445\n",
      "2015-01-27    0.180326\n",
      "2015-01-28    0.323351\n",
      "2015-01-29    0.681210\n",
      "2015-01-30    0.929072\n",
      "2015-02-02    0.297565\n",
      "2015-02-03    0.686650\n",
      "2015-02-04    0.555712\n",
      "2015-02-05    0.679901\n",
      "2015-02-06    0.890434\n",
      "2015-02-09    0.802384\n",
      "2015-02-10    0.266343\n",
      "2015-02-11    0.506954\n",
      "                ...   \n",
      "2015-11-20    0.743672\n",
      "2015-11-23    0.410758\n",
      "2015-11-24    0.590138\n",
      "2015-11-25    0.223290\n",
      "2015-11-26    0.193870\n",
      "2015-11-27    0.267544\n",
      "2015-11-30    0.104166\n",
      "2015-12-01    0.702562\n",
      "2015-12-02    0.919091\n",
      "2015-12-03    0.798914\n",
      "2015-12-04    0.215530\n",
      "2015-12-07    0.811800\n",
      "2015-12-08    0.772076\n",
      "2015-12-09    0.375698\n",
      "2015-12-10    0.986335\n",
      "2015-12-11    0.581123\n",
      "2015-12-14    0.113636\n",
      "2015-12-15    0.762969\n",
      "2015-12-16    0.484248\n",
      "2015-12-17    0.088369\n",
      "2015-12-18    0.841202\n",
      "2015-12-21    0.060532\n",
      "2015-12-22    0.622875\n",
      "2015-12-23    0.568534\n",
      "2015-12-24    0.783217\n",
      "2015-12-25    0.370135\n",
      "2015-12-28    0.628611\n",
      "2015-12-29    0.408115\n",
      "2015-12-30    0.399620\n",
      "2015-12-31    0.411603\n",
      "Freq: B, Length: 261, dtype: float64\n"
     ]
    }
   ],
   "source": [
    "#Creating the datatime index's that contains only business days of 2015.\n",
    "datetimeindex = pd.date_range(start='2015-01-01', end='2015-12-31', freq='B')\n",
    "#Creating the series of random numbers with datetime index.\n",
    "series = pd.Series(np.random.rand(len(datetimeindex)), index = datetimeindex)\n",
    "print(series)"
   ]
  },
  {
   "cell_type": "markdown",
   "metadata": {},
   "source": [
    "### Problem 3"
   ]
  },
  {
   "cell_type": "code",
   "execution_count": 12,
   "metadata": {},
   "outputs": [
    {
     "data": {
      "text/plain": [
       "25.980312160664962"
      ]
     },
     "execution_count": 12,
     "metadata": {},
     "output_type": "execute_result"
    }
   ],
   "source": [
    "#Sum of the values in s for every Wednesday\n",
    "series[datetimeindex.weekday_name == 'Wednesday'].sum()"
   ]
  },
  {
   "cell_type": "markdown",
   "metadata": {},
   "source": [
    "### Problem 4"
   ]
  },
  {
   "cell_type": "code",
   "execution_count": 15,
   "metadata": {},
   "outputs": [
    {
     "data": {
      "text/plain": [
       "2015-01-31    0.460768\n",
       "2015-02-28    0.589977\n",
       "2015-03-31    0.498850\n",
       "2015-04-30    0.490348\n",
       "2015-05-31    0.433637\n",
       "2015-06-30    0.538089\n",
       "2015-07-31    0.479722\n",
       "2015-08-31    0.425087\n",
       "2015-09-30    0.470517\n",
       "2015-10-31    0.508287\n",
       "2015-11-30    0.568204\n",
       "2015-12-31    0.552469\n",
       "Freq: M, dtype: float64"
      ]
     },
     "execution_count": 15,
     "metadata": {},
     "output_type": "execute_result"
    }
   ],
   "source": [
    "#Average for each Calender month.\n",
    "series.groupby(pd.Grouper(freq='M')).mean()"
   ]
  },
  {
   "cell_type": "markdown",
   "metadata": {},
   "source": [
    "### Problem 5"
   ]
  },
  {
   "cell_type": "code",
   "execution_count": 17,
   "metadata": {},
   "outputs": [
    {
     "data": {
      "text/plain": [
       "2015-01-31    0.929072\n",
       "2015-05-31    0.985667\n",
       "2015-09-30    0.988543\n",
       "2016-01-31    0.986335\n",
       "dtype: float64"
      ]
     },
     "execution_count": 17,
     "metadata": {},
     "output_type": "execute_result"
    }
   ],
   "source": [
    "#For each group of four consecutive calendar months in s, find the date on which the highest value occurred.\n",
    "series.groupby(pd.Grouper(freq='4M')).max()"
   ]
  },
  {
   "cell_type": "code",
   "execution_count": null,
   "metadata": {},
   "outputs": [],
   "source": []
  }
 ],
 "metadata": {
  "kernelspec": {
   "display_name": "Python 3",
   "language": "python",
   "name": "python3"
  },
  "language_info": {
   "codemirror_mode": {
    "name": "ipython",
    "version": 3
   },
   "file_extension": ".py",
   "mimetype": "text/x-python",
   "name": "python",
   "nbconvert_exporter": "python",
   "pygments_lexer": "ipython3",
   "version": "3.7.0"
  }
 },
 "nbformat": 4,
 "nbformat_minor": 2
}
